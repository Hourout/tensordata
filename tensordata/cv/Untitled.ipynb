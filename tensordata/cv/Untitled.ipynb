{
 "cells": [
  {
   "cell_type": "code",
   "execution_count": 1,
   "metadata": {
    "ExecuteTime": {
     "end_time": "2021-06-18T02:08:26.340019Z",
     "start_time": "2021-06-18T02:08:04.055257Z"
    }
   },
   "outputs": [],
   "source": [
    "import os\n",
    "import time\n",
    "import tarfile\n",
    "\n",
    "import imageio\n",
    "import numpy as np\n",
    "import tensordata.utils.request as rq\n",
    "from tensordata.utils._utils import assert_dirs, path_join\n",
    "\n",
    "\n",
    "def cifar10(root):\n",
    "    \"\"\"CIFAR10 image classification dataset from https://www.cs.toronto.edu/~kriz/cifar.html\n",
    "    \n",
    "    Each sample is an image (in 3D NDArray) with shape (32, 32, 3).\n",
    "    \n",
    "    Attention: if exist dirs `root/cifar10`, api will delete it and create it.\n",
    "    Data storage directory:\n",
    "    root = `/user/.../mydata`\n",
    "    cifar10 data: \n",
    "    `root/cifar10/train/0/xx.png`\n",
    "    `root/cifar10/train/2/xx.png`\n",
    "    `root/cifar10/train/6/xx.png`\n",
    "    `root/cifar10/test/0/xx.png`\n",
    "    `root/cifar10/test/2/xx.png`\n",
    "    `root/cifar10/test/6/xx.png`\n",
    "    Args:\n",
    "        root: str, Store the absolute path of the data directory.\n",
    "              example:if you want data path is `/user/.../mydata/cifar10`,\n",
    "              root should be `/user/.../mydata`.\n",
    "    Returns:\n",
    "        Store the absolute path of the data directory, is `root/cifar10`.\n",
    "    \"\"\"\n",
    "    start = time.time()\n",
    "    task_path = assert_dirs(root, 'cifar10')\n",
    "    url = 'https://apache-mxnet.s3-accelerate.dualstack.amazonaws.com/gluon/dataset/cifar10/cifar-10-binary.tar.gz'\n",
    "    rq.files(url, path_join(task_path, url.split('/')[-1]))\n",
    "    with tarfile.open(path_join(task_path, url.split('/')[-1])) as t:\n",
    "        t.extractall(task_path)\n",
    "    noise_flie = os.listdir(task_path)\n",
    "    for file in ['data_batch_1.bin', 'data_batch_2.bin', 'data_batch_3.bin', 'data_batch_4.bin', 'data_batch_5.bin']:\n",
    "        with open(path_join(task_path, file), 'rb') as fin:\n",
    "            data = np.frombuffer(fin.read(), dtype=np.uint8).reshape(-1, 3072+1)\n",
    "            train = data[:, 1:].reshape(-1, 3, 32, 32).transpose(0, 2, 3, 1)\n",
    "            train_label = data[:, 0].astype(np.int32)\n",
    "        return train\n",
    "        for i in set(train_label):\n",
    "            os.makedirs(path_join(task_path, 'train', str(i)))\n",
    "        for idx in range(train.shape[0]):\n",
    "            imageio.imsave(path_join(task_path, 'train', str(train_label[idx]), str(idx)+'.png'), train[idx])\n",
    "    for file in ['test_batch.bin']:\n",
    "        with open(path_join(task_path, file), 'rb') as fin:\n",
    "            data = np.frombuffer(fin.read(), dtype=np.uint8).reshape(-1, 3072+1)\n",
    "            test = data[:, 1:].reshape(-1, 3, 32, 32).transpose(0, 2, 3, 1)\n",
    "            test_label = data[:, 0].astype(np.int32)\n",
    "        for i in set(test_label):\n",
    "            os.makedirs(path_join(task_path, 'test', str(i)))\n",
    "        for idx in range(test.shape[0]):\n",
    "            imageio.imsave(path_join(task_path, 'test', str(test_label[idx]), str(idx)+'.png'), test[idx])\n",
    "    for file in noise_flie:\n",
    "        os.remove(path_join(task_path, file))\n",
    "    print('cifar10 dataset download completed, run time %d min %.2f sec' %divmod((time.time()-start), 60))\n",
    "    return task_path\n",
    "\n",
    "t = cifar10('./')"
   ]
  },
  {
   "cell_type": "code",
   "execution_count": 3,
   "metadata": {
    "ExecuteTime": {
     "end_time": "2021-06-18T02:08:34.736867Z",
     "start_time": "2021-06-18T02:08:34.726967Z"
    }
   },
   "outputs": [
    {
     "data": {
      "text/plain": [
       "(10000, 32, 32, 3)"
      ]
     },
     "execution_count": 3,
     "metadata": {},
     "output_type": "execute_result"
    }
   ],
   "source": [
    "t.shape"
   ]
  },
  {
   "cell_type": "code",
   "execution_count": 4,
   "metadata": {
    "ExecuteTime": {
     "end_time": "2021-06-18T02:08:49.580681Z",
     "start_time": "2021-06-18T02:08:48.717853Z"
    }
   },
   "outputs": [],
   "source": [
    "import linora as la"
   ]
  },
  {
   "cell_type": "code",
   "execution_count": 5,
   "metadata": {
    "ExecuteTime": {
     "end_time": "2021-06-18T02:08:58.695067Z",
     "start_time": "2021-06-18T02:08:58.616954Z"
    }
   },
   "outputs": [],
   "source": [
    "la.image.save_image(la.image.array_to_image(t[]))"
   ]
  },
  {
   "cell_type": "code",
   "execution_count": 6,
   "metadata": {
    "ExecuteTime": {
     "end_time": "2021-06-18T02:10:35.485860Z",
     "start_time": "2021-06-18T02:10:35.467254Z"
    }
   },
   "outputs": [
    {
     "data": {
      "image/png": "[encoded data removed]",
      "text/plain": [
       "<PIL.Image.Image image mode=RGB size=32x32 at 0x7F1566A59D50>"
      ]
     },
     "execution_count": 6,
     "metadata": {},
     "output_type": "execute_result"
    }
   ],
   "source": [
    "la.image.array_to_image(t[0,:,:,:])"
   ]
  },
  {
   "cell_type": "code",
   "execution_count": 41,
   "metadata": {
    "ExecuteTime": {
     "end_time": "2021-06-18T03:11:09.096123Z",
     "start_time": "2021-06-18T03:11:09.069054Z"
    }
   },
   "outputs": [],
   "source": [
    "import os\n",
    "import shutil\n",
    "\n",
    "__all__ = ['copy', 'exists', 'isdir', 'isfile', 'listdir', 'makedirs', 'remove', 'stat', 'walk']\n",
    "\n",
    "def copy(src, dst, overwrite=False):\n",
    "    \"\"\"Copies data from src to dst.\n",
    "    \n",
    "    Note that the above will still result in an error if you try to overwrite a directory with a file.\n",
    "\n",
    "    Note that you cannot copy a directory, only file arguments are supported.\n",
    "\n",
    "    Args:\n",
    "        src: string, name of the file whose contents need to be copied\n",
    "        dst: string, name of the file to which to copy to\n",
    "        overwrite: boolean, Whether to overwrite the file if existing file.\n",
    "    \"\"\"\n",
    "    if exists(dst):\n",
    "        if overwrite:\n",
    "            if isdir(src):\n",
    "                shutil.copytree(src, dst)\n",
    "            else:\n",
    "                shutil.copy(src, dst)\n",
    "    else:\n",
    "        if isdir(src):\n",
    "            shutil.copytree(src, dst)\n",
    "        else:\n",
    "            shutil.copy(src, dst)\n",
    "\n",
    "def exists(path):\n",
    "    \"\"\"Determines whether a path exists or not.\n",
    "    Args:\n",
    "        path: string, a path, filepath or dirpath.\n",
    "    Returns:\n",
    "        True if the path exists, whether it's a file or a directory. \n",
    "        False if the path does not exist and there are no filesystem errors.\n",
    "    \"\"\"\n",
    "    return os.path.exists(path)\n",
    "\n",
    "def isdir(path):\n",
    "    \"\"\"Returns whether the path is a directory or not.\n",
    "    \n",
    "    Args:\n",
    "        path: string, path to a potential directory.\n",
    "    Returns:\n",
    "        True, if the path is a directory; False otherwise.\n",
    "    \"\"\"\n",
    "    return os.path.isdir(path)\n",
    "\n",
    "def isfile(path):\n",
    "    \"\"\"Returns whether the path is a regular file or not.\n",
    "    \n",
    "    Args:\n",
    "        path: string, path to a potential file.\n",
    "    Returns:\n",
    "        True, if the path is a regular file; False otherwise.\n",
    "    \"\"\"\n",
    "    return os.path.isfile(path)\n",
    "\n",
    "def listdir(path):\n",
    "    \"\"\"Returns a list of entries contained within a directory.\n",
    "    \n",
    "    Args:\n",
    "        path: string, path to a directory.\n",
    "    Returns:\n",
    "        [filename1, filename2, ... filenameN] as strings.\n",
    "    Raises:\n",
    "        errors. NotFoundError if directory doesn't exist.\n",
    "    \"\"\"\n",
    "    return os.listdir(path)\n",
    "\n",
    "def makedirs(path):\n",
    "    \"\"\"Creates a directory and all parent/intermediate directories.\n",
    "    \n",
    "    Args:\n",
    "        path: string, name of the directory to be created.\n",
    "    \"\"\"\n",
    "    return os.makedirs(path)\n",
    "\n",
    "def remove(path):\n",
    "    \"\"\"Deletes a directory or file.\n",
    "    \n",
    "    Args:\n",
    "        path: string, a path, filepath or dirpath.\n",
    "    Raises:\n",
    "        errors. NotFoundError if directory or file doesn't exist.\n",
    "    \"\"\"\n",
    "    if isfile(path):\n",
    "        return os.remove(path)\n",
    "    return os.removedirs(path)\n",
    "\n",
    "def rename(src, dst, overwrite=False):\n",
    "    \"\"\"Rename or move a file / directory.\n",
    "    \n",
    "    Args:\n",
    "        src: string, pathname for a file.\n",
    "        dst: string, pathname to which the file needs to be moved.\n",
    "        overwrite: boolean, Whether to overwrite the file if existing file.\n",
    "    \"\"\"\n",
    "    if exists(dst):\n",
    "        if overwrite:\n",
    "            return os.rename(src, dst)\n",
    "    else:\n",
    "        return os.rename(src, dst)\n",
    "    \n",
    "def stat(path):\n",
    "    \"\"\"Returns file or directory statistics for a given path.\n",
    "    \n",
    "    Args:\n",
    "        path: string, a path, filepath or dirpath.\n",
    "    Returns:\n",
    "        FileStatistics struct that contains information about the path.\n",
    "    \"\"\"\n",
    "    return os.stat(path)\n",
    "\n",
    "def walk(top, topdown=True, onerror=None):\n",
    "    \"\"\"Recursive directory tree generator for directories.\n",
    "    \n",
    "    Args:\n",
    "        top: string, a Directory name\n",
    "        topdown: bool, Traverse pre order if True, post order if False.\n",
    "        onerror: optional handler for errors. Should be a function, \n",
    "                 it will be called with the error as argument. \n",
    "                 Rethrowing the error aborts the walk. \n",
    "                 Errors that happen while listing directories are ignored.\n",
    "    \n",
    "    Returns:\n",
    "        Yields, Each yield is a 3-tuple: the pathname of a directory, \n",
    "        followed by lists of all its subdirectories and leaf files. \n",
    "        That is, each yield looks like: (dirname, [subdirname, subdirname, ...], [filename, filename, ...]). \n",
    "        Each item is a string.\n",
    "    \"\"\"\n",
    "    return os.walk(top, topdown, onerror)\n",
    "rename('cifar10/data_batch_1.bin', 'batches.txt')"
   ]
  },
  {
   "cell_type": "code",
   "execution_count": 54,
   "metadata": {
    "ExecuteTime": {
     "end_time": "2021-06-18T05:32:05.339322Z",
     "start_time": "2021-06-18T05:32:05.332856Z"
    }
   },
   "outputs": [],
   "source": [
    "os.walk?"
   ]
  },
  {
   "cell_type": "code",
   "execution_count": 59,
   "metadata": {
    "ExecuteTime": {
     "end_time": "2021-06-18T05:53:41.030393Z",
     "start_time": "2021-06-18T05:53:41.019430Z"
    }
   },
   "outputs": [],
   "source": [
    "shutil.copytree?"
   ]
  },
  {
   "cell_type": "code",
   "execution_count": null,
   "metadata": {},
   "outputs": [],
   "source": []
  }
 ],
 "metadata": {
  "kernelspec": {
   "display_name": "Python 3",
   "language": "python",
   "name": "python3"
  },
  "language_info": {
   "codemirror_mode": {
    "name": "ipython",
    "version": 3
   },
   "file_extension": ".py",
   "mimetype": "text/x-python",
   "name": "python",
   "nbconvert_exporter": "python",
   "pygments_lexer": "ipython3",
   "version": "3.7.4"
  },
  "varInspector": {
   "cols": {
    "lenName": 16,
    "lenType": 16,
    "lenVar": 40
   },
   "kernels_config": {
    "python": {
     "delete_cmd_postfix": "",
     "delete_cmd_prefix": "del ",
     "library": "var_list.py",
     "varRefreshCmd": "print(var_dic_list())"
    },
    "r": {
     "delete_cmd_postfix": ") ",
     "delete_cmd_prefix": "rm(",
     "library": "var_list.r",
     "varRefreshCmd": "cat(var_dic_list()) "
    }
   },
   "types_to_exclude": [
    "module",
    "function",
    "builtin_function_or_method",
    "instance",
    "_Feature"
   ],
   "window_display": false
  }
 },
 "nbformat": 4,
 "nbformat_minor": 4
}
